{
 "cells": [
  {
   "cell_type": "code",
   "execution_count": 46,
   "metadata": {},
   "outputs": [],
   "source": [
    "def spin_words(sentence):\n",
    "    # Your code goes here\n",
    "    word_list = sentence.split()\n",
    "    reverse_str_list = []\n",
    "    for word in word_list:\n",
    "        if len(word) >= 5:\n",
    "            reverse_word = word[::-1] \n",
    "            reverse_str_list.append(reverse_word)\n",
    "        else:\n",
    "            reverse_str_list.append(word)\n",
    "    sen = ' '.join(reverse_str_list)\n",
    "    return sen\n",
    "    \n",
    "            \n",
    "            \n",
    "    \n",
    "    \n",
    "    "
   ]
  },
  {
   "cell_type": "code",
   "execution_count": 47,
   "metadata": {},
   "outputs": [
    {
     "data": {
      "text/plain": [
       "'I am yppah yadot fuck you'"
      ]
     },
     "execution_count": 47,
     "metadata": {},
     "output_type": "execute_result"
    }
   ],
   "source": [
    "spin_words(\"I am happy today fuck you\")"
   ]
  },
  {
   "cell_type": "code",
   "execution_count": null,
   "metadata": {},
   "outputs": [],
   "source": []
  }
 ],
 "metadata": {
  "kernelspec": {
   "display_name": "Python 3",
   "language": "python",
   "name": "python3"
  },
  "language_info": {
   "codemirror_mode": {
    "name": "ipython",
    "version": 3
   },
   "file_extension": ".py",
   "mimetype": "text/x-python",
   "name": "python",
   "nbconvert_exporter": "python",
   "pygments_lexer": "ipython3",
   "version": "3.7.4"
  }
 },
 "nbformat": 4,
 "nbformat_minor": 2
}
