{
 "cells": [
  {
   "cell_type": "code",
   "execution_count": 21,
   "metadata": {},
   "outputs": [],
   "source": [
    "class Calculator():\n",
    "    \n",
    "    def __init__(self, data):\n",
    "        self.data = data\n",
    "        \n",
    "        \n",
    "#     def reset(self):\n",
    "#         self.__init__(self.data)\n",
    "    @property\n",
    "    def length(self):\n",
    "        return len(self.data)\n",
    "    \n",
    "    @property\n",
    "    def mean(self):\n",
    "        return sum(self.data)/len(self.data)\n",
    "\n",
    "    @property\n",
    "    def median(self):\n",
    "        #if self.length is odd\n",
    "        self.data.sort()\n",
    "        if self.length % 2 == 1:\n",
    "            return self.data[int((self.length)/2)]\n",
    "            \n",
    "        \n",
    "        else:\n",
    "            return (self.data[((self.length)//2)] + self.data[((self.length) // 2)-1])/2\n",
    "            \n",
    "    @property\n",
    "    def variance(self):\n",
    "        return sum(((x - self.mean)**2) for x in self.data) / (len(self.data)-1)\n",
    "    \n",
    "    @property\n",
    "    def stand_dev(self):\n",
    "        return (sum(((x - self.mean)**2) for x in self.data) / (len(self.data)-1))**.5\n",
    "         \n",
    "        \n",
    "    def add_data(self, more_data):\n",
    "        if type(more_data) == list:\n",
    "            return self.data.extend(more_data)\n",
    "            self.reset()\n",
    "        else:\n",
    "            return self.data.append(more_data)\n",
    "\n",
    "        \n",
    "    def remove_data(self, item):\n",
    "        for element in item:\n",
    "            if element in self.data:\n",
    "                self.data.remove(element)"
   ]
  },
  {
   "cell_type": "code",
   "execution_count": 22,
   "metadata": {},
   "outputs": [],
   "source": [
    "data = [2, 20, 45, 15, 10, 55, 80]"
   ]
  },
  {
   "cell_type": "code",
   "execution_count": 23,
   "metadata": {},
   "outputs": [],
   "source": [
    "x = Calculator(data)"
   ]
  },
  {
   "cell_type": "code",
   "execution_count": 24,
   "metadata": {},
   "outputs": [
    {
     "data": {
      "text/plain": [
       "28.336414398303486"
      ]
     },
     "execution_count": 24,
     "metadata": {},
     "output_type": "execute_result"
    }
   ],
   "source": [
    "x.stand_dev"
   ]
  },
  {
   "cell_type": "code",
   "execution_count": 25,
   "metadata": {},
   "outputs": [],
   "source": [
    "x.remove_data(80)"
   ]
  },
  {
   "cell_type": "code",
   "execution_count": 26,
   "metadata": {},
   "outputs": [
    {
     "data": {
      "text/plain": [
       "[2, 10, 15, 20, 45, 55]"
      ]
     },
     "execution_count": 26,
     "metadata": {},
     "output_type": "execute_result"
    }
   ],
   "source": [
    "x.data"
   ]
  },
  {
   "cell_type": "code",
   "execution_count": 27,
   "metadata": {},
   "outputs": [
    {
     "data": {
      "text/plain": [
       "24.5"
      ]
     },
     "execution_count": 27,
     "metadata": {},
     "output_type": "execute_result"
    }
   ],
   "source": [
    "x.mean"
   ]
  },
  {
   "cell_type": "code",
   "execution_count": null,
   "metadata": {},
   "outputs": [],
   "source": []
  }
 ],
 "metadata": {
  "kernelspec": {
   "display_name": "Python 3",
   "language": "python",
   "name": "python3"
  },
  "language_info": {
   "codemirror_mode": {
    "name": "ipython",
    "version": 3
   },
   "file_extension": ".py",
   "mimetype": "text/x-python",
   "name": "python",
   "nbconvert_exporter": "python",
   "pygments_lexer": "ipython3",
   "version": "3.7.4"
  }
 },
 "nbformat": 4,
 "nbformat_minor": 2
}
