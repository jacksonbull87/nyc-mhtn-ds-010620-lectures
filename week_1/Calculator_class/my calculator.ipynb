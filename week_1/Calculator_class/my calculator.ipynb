{
 "cells": [
  {
   "cell_type": "code",
   "execution_count": 189,
   "metadata": {},
   "outputs": [],
   "source": [
    "class Calculator():\n",
    "    \n",
    "    def __init__(self, data):\n",
    "        self.data = data\n",
    "        \n",
    "#     def reset(self):\n",
    "#         self.__init__(self.data)\n",
    "    @property\n",
    "    def length(self):\n",
    "        return len(self.data)\n",
    "    \n",
    "    @property\n",
    "    def mean(self):\n",
    "        return sum(self.data)/len(self.data)\n",
    "\n",
    "    @property\n",
    "    def median(self):\n",
    "        #if self.length is odd\n",
    "        self.data.sort()\n",
    "        if self.length % 2 == 1:\n",
    "            return self.data[int((self.length)/2)]\n",
    "            \n",
    "        \n",
    "        else:\n",
    "            return (self.data[((self.length)//2)] + self.data[((self.length) // 2)-1])/2\n",
    "            \n",
    "    @property\n",
    "    def variance(self):\n",
    "        return sum(((x - self.mean)**2) for x in self.data) / (len(self.data))\n",
    "    \n",
    "    @property\n",
    "    def stand_dev(self):\n",
    "        return (sum(((x - self.mean)**2) for x in self.data) / (len(self.data)))**.5\n",
    "         \n",
    "        \n",
    "    def add_data(self, more_data):\n",
    "        if type(more_data) == list:\n",
    "            return self.data.extend(more_data)\n",
    "            self.reset()\n",
    "        else:\n",
    "            return self.data.append(more_data)\n",
    "            self.reset()\n",
    "        \n",
    "    def remove_data(self, item):\n",
    "        return self.data.remove(item)\n",
    "    \n",
    "    "
   ]
  },
  {
   "cell_type": "code",
   "execution_count": 190,
   "metadata": {},
   "outputs": [],
   "source": [
    "data = [1,2,3,4]"
   ]
  },
  {
   "cell_type": "code",
   "execution_count": 196,
   "metadata": {},
   "outputs": [
    {
     "data": {
      "text/plain": [
       "1.118033988749895"
      ]
     },
     "execution_count": 196,
     "metadata": {},
     "output_type": "execute_result"
    }
   ],
   "source": [
    "x = Calculator(data)\n",
    "x.stand_dev"
   ]
  },
  {
   "cell_type": "code",
   "execution_count": 176,
   "metadata": {},
   "outputs": [
    {
     "data": {
      "text/plain": [
       "5"
      ]
     },
     "execution_count": 176,
     "metadata": {},
     "output_type": "execute_result"
    }
   ],
   "source": [
    "x.length"
   ]
  },
  {
   "cell_type": "code",
   "execution_count": 192,
   "metadata": {},
   "outputs": [],
   "source": [
    "x.add_data(5)"
   ]
  },
  {
   "cell_type": "code",
   "execution_count": 195,
   "metadata": {},
   "outputs": [
    {
     "data": {
      "text/plain": [
       "[1, 2, 3, 4]"
      ]
     },
     "execution_count": 195,
     "metadata": {},
     "output_type": "execute_result"
    }
   ],
   "source": [
    "x.data"
   ]
  },
  {
   "cell_type": "code",
   "execution_count": 194,
   "metadata": {},
   "outputs": [],
   "source": [
    "x.remove_data(5)"
   ]
  },
  {
   "cell_type": "code",
   "execution_count": 130,
   "metadata": {},
   "outputs": [],
   "source": []
  },
  {
   "cell_type": "code",
   "execution_count": 154,
   "metadata": {},
   "outputs": [
    {
     "data": {
      "text/plain": [
       "2.5"
      ]
     },
     "execution_count": 154,
     "metadata": {},
     "output_type": "execute_result"
    }
   ],
   "source": [
    "x.mean"
   ]
  },
  {
   "cell_type": "code",
   "execution_count": 107,
   "metadata": {},
   "outputs": [
    {
     "data": {
      "text/plain": [
       "3.0"
      ]
     },
     "execution_count": 107,
     "metadata": {},
     "output_type": "execute_result"
    }
   ],
   "source": []
  },
  {
   "cell_type": "code",
   "execution_count": null,
   "metadata": {},
   "outputs": [],
   "source": []
  }
 ],
 "metadata": {
  "kernelspec": {
   "display_name": "Python 3",
   "language": "python",
   "name": "python3"
  },
  "language_info": {
   "codemirror_mode": {
    "name": "ipython",
    "version": 3
   },
   "file_extension": ".py",
   "mimetype": "text/x-python",
   "name": "python",
   "nbconvert_exporter": "python",
   "pygments_lexer": "ipython3",
   "version": "3.7.4"
  }
 },
 "nbformat": 4,
 "nbformat_minor": 2
}
