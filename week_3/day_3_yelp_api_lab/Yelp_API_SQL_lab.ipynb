{
 "cells": [
  {
   "cell_type": "markdown",
   "metadata": {},
   "source": [
    "# Yelp API - Lab\n",
    "\n",
    "\n",
    "\n",
    "## Introduction \n",
    "\n",
    "Now that we've seen how the Yelp API works, it's time to put those API and SQL skills to work in order to do some basic business analysis! Taking things a step further, you'll also independently explore how to perform pagination in order to retrieve a full results set from the Yelp API!\n",
    "\n",
    "## Objectives\n",
    "\n",
    "You will be able to:\n",
    "* Create a DB on AWS to store information from Yelp about businesses\n",
    "* Create HTTP requests to get data from Yelp API\n",
    "* Parse HTTP responses and insert the information into your DB\n",
    "* Perform pagination to retrieve troves of data!\n",
    "* Write SQL queries to answer questions about your data "
   ]
  },
  {
   "cell_type": "markdown",
   "metadata": {},
   "source": [
    "## Problem Introduction\n",
    "\n",
    "For this lab you will analyze the yelp data for a group of businesses to learn more about an industry. You will choose a type of business (Italian Restuarants, Nail Salons, Crossfit gyms) and a location to analyze. Then you will get data from the Yelp API, store that data in a SQL Database on AWS, and write queries to answer questions about the data. \n",
    "\n",
    "\n",
    "### Process:\n",
    "\n",
    "1. Read through the SQL questions and the API documentation to determine which pieces of information you need to pull from the Yelp API.\n",
    "\n",
    "2. Create a DB schema with 2 tables. One for the businesses and one for the reviews.\n",
    "\n",
    "3. Create code to:\n",
    "  - Perform a search of businesses using pagination\n",
    "  - Parse the API response for specific data points\n",
    "  - Insert the data into your AWS DB\n",
    "\n",
    "4. Use the functions above in a loop that will paginate over the results to retrieve all of the results. \n",
    "\n",
    "5. Create functions to:\n",
    "  - Retrieve the reviews data of one business\n",
    "  - Parse the reviews response for specific review data\n",
    "  - Insert the review data into the DB\n",
    "\n",
    "6. Using SQL, query all of the business IDs. Using the 3 Python functions you've created, run your business IDs through a loop to get the reviews for each business and insert them into your DB.\n",
    "\n",
    "7. Write SQL queries to answer the following questions about your data.\n",
    "\n",
    "\n",
    "Bonus Steps:  \n",
    "- Place your helper functions in a package so that your final notebook only has the major steps listed.\n",
    "- Rewrite your business search functions to be able take an argument for the type of business you are searching for.\n",
    "- Add another group of businesses to your database.\n"
   ]
  },
  {
   "cell_type": "markdown",
   "metadata": {},
   "source": [
    " \n",
    "## SQL Questions:\n",
    "\n",
    "- Which are the 5 most reviewed businesses?\n",
    "- What is the highest rating recieved in your data set and how many businesses have that rating?\n",
    "- What percentage of businesses have a rating greater than or  4.5?\n",
    "- What percentage of businesses have a rating less than 3?\n",
    "- What is the average rating of restaurants that have a price label of one dollar sign? Two dollar signs? Three dollar signs? \n",
    "- Return the text of the reviews for the most reviewed restaurant. \n",
    "- Return the name of the business with the most recent review. \n",
    "- Find the highest rated business and return text of the most recent review. If multiple business have the same rating, select the restaurant with the most reviews. \n",
    "- Find the lowest rated business and return text of the most recent review.  If multiple business have the same rating, select the restaurant with the least reviews. \n"
   ]
  },
  {
   "cell_type": "markdown",
   "metadata": {},
   "source": [
    "## Part 1 - Understanding your data and question\n",
    "\n",
    "Lok at the question and determine what data you will need to store in your database in order to answer the questions. Start to thin about your DB schema. What tables will you want to create and what columns will you ahve for those tables. \n",
    "\n",
    "Look at the API documentation, and determine what fields of the API response you will match up with the columns you want in your DB tables. \n",
    "\n",
    "\n",
    "https://www.yelp.com/developers/documentation/v3/get_started"
   ]
  },
  {
   "cell_type": "markdown",
   "metadata": {},
   "source": [
    "## Part 2 - Set up the DB\n",
    "\n",
    "Now that you are familiar with the data, create your SQL queries to create the DB and the appropriate tables. "
   ]
  },
  {
   "cell_type": "markdown",
   "metadata": {},
   "source": [
    "### Foriegn Keys\n",
    "\n",
    "For this project you will have two tables that you need to link using a foreign key. Below is some information about how to create a foriegn key.  \n",
    "\n",
    "http://www.mysqltutorial.org/mysql-foreign-key/\n",
    "\n"
   ]
  },
  {
   "cell_type": "markdown",
   "metadata": {},
   "source": [
    "### Using DB:\n",
    "    \n",
    "For this lab, you can either store the data on one DB or put in on both of the partners DBs. If you decide to put it on one DB, you want to make sure both partners have access to it.  To do this you want to add a user to your DB.  \n",
    "\n",
    "[how to add a new user](https://howchoo.com/g/mtm3zdq2nzv/how-to-add-a-mysql-user-and-grant-privileges)"
   ]
  },
  {
   "cell_type": "code",
   "execution_count": 1,
   "metadata": {},
   "outputs": [],
   "source": [
    "## Connect to DB server on AWS\n",
    "import config\n",
    "import mysql.connector\n",
    "cnx = mysql.connector.connect(\n",
    "                            host=config.mycred['host'],\n",
    "                            user=config.mycred['user'],\n",
    "                            password=config.mycred['password'],\n",
    "                            port=config.mycred['port'],\n",
    "                            database='Yelp_Business'\n",
    "\n",
    ")\n",
    "\n",
    "cursor = cnx.cursor()"
   ]
  },
  {
   "cell_type": "code",
   "execution_count": 3,
   "metadata": {},
   "outputs": [],
   "source": [
    "## Create new DB \n",
    "\n",
    "cursor.execute('''CREATE DATABASE Yelp_Business;\n",
    "''')"
   ]
  },
  {
   "cell_type": "code",
   "execution_count": 4,
   "metadata": {},
   "outputs": [],
   "source": [
    "# Create a table for the Businesses\n",
    "\n",
    "# Create a table for the Businesses\n",
    "\n",
    "#Columns: Name (string), Location(string), Review_Count (INT), Rating (FLoat), Price(String), Business_ID(string) (Primary Key)\n",
    "\n",
    "cursor.execute('''CREATE TABLE Businesses (\n",
    "                                Name varchar(255),\n",
    "                                Location varchar(255),\n",
    "                                Review_Count int,\n",
    "                                Rating float,\n",
    "                                Price varchar(255),\n",
    "                                Business_ID varchar(255) NOT NULL,\n",
    "                                PRIMARY KEY (Business_ID)\n",
    ")\n",
    "\n",
    ";\n",
    "\n",
    "'''\n",
    "\n",
    ")"
   ]
  },
  {
   "cell_type": "code",
   "execution_count": 12,
   "metadata": {},
   "outputs": [],
   "source": [
    "# Create a table for the reviews\n",
    "\n",
    "# Create a table for the reviews\n",
    "\n",
    "#columns: Business ID(Foreign Key), Review Text(string), Review Date(String), Review ID (string)\n",
    "\n",
    "cursor.execute('''CREATE TABLE Business_Reviews (\n",
    "                                Review_Text varchar(255),\n",
    "                                Review_Date varchar(255),\n",
    "                                Review_ID varchar(255),\n",
    "                                Business_ID varchar(255) NOT NULL,\n",
    "                                FOREIGN KEY (Business_ID)\n",
    "                                    REFERENCES Businesses (Business_ID))\n",
    "\n",
    ";\n",
    "\n",
    "'''\n",
    "\n",
    ")"
   ]
  },
  {
   "cell_type": "code",
   "execution_count": null,
   "metadata": {},
   "outputs": [],
   "source": []
  },
  {
   "cell_type": "markdown",
   "metadata": {},
   "source": [
    "## Part 3 - Create ETL pipeline for the business data from the API\n",
    "\n",
    "Now that you know what data you need from the API, you want to write code that will execute a api call, parse those results and then insert the results into the DB.  \n",
    "\n",
    "It is helpful to break this up into three different functions (*api call, parse results, and insert into DB*) and then you can write a function/script that pull the other three functions together. \n",
    "\n",
    "Let's first do this for the Business endpoint."
   ]
  },
  {
   "cell_type": "code",
   "execution_count": 25,
   "metadata": {},
   "outputs": [],
   "source": [
    "# Write a function to make a call to the yelp API\n",
    "\n",
    "import requests\n",
    "\n",
    "url = 'https://api.yelp.com/v3/businesses/search'\n",
    "api_key = 'Gh_Hoaof6K6gvy1HxSSBhy4Y0wwwFvIPKgC00UWhvCvkeVhJStATKWD-eMbwilkXhjcdDiqCI3ZBYxfq0nV6CvpGhz4T9VPCFgLDH2B54eqTff1-a7PQd9fR7kHpXXYx'\n",
    "\n",
    "headers = {'Authorization': 'Bearer {}'.format(api_key),\n",
    "    \n",
    "    \n",
    "}\n",
    "\n",
    "term = 'chinese restaurant'\n",
    "\n",
    "location = 'New York City'\n",
    "\n",
    "limit = 50\n",
    "\n",
    "offset = 50\n",
    "\n",
    "url_params = {'term': 'chinese restaurant'.replace(' ', '+'),\n",
    "              'location': 'New York City'.replace(' ', '+'),\n",
    "              'limit': 50,\n",
    "              'offset': 50\n",
    "    \n",
    "}\n",
    "\n",
    "def call_yelp_data(url,headers, url_params):\n",
    "    response = requests.get(url, headers=headers, params=url_params )\n",
    "    data = response.json()\n",
    "    print(data)\n",
    "    business_data = data['businesses']\n",
    "    return business_data\n",
    "    "
   ]
  },
  {
   "cell_type": "code",
   "execution_count": 28,
   "metadata": {},
   "outputs": [
    {
     "name": "stdout",
     "output_type": "stream",
     "text": [
      "{'businesses': [{'id': 'Xf6e3HaP0AgMBxY7dEDkOA', 'alias': '99-favor-taste-new-york-12', 'name': '99 Favor Taste', 'image_url': 'https://s3-media3.fl.yelpcdn.com/bphoto/3WBk8VLxBAWeXOSqvYoXgw/o.jpg', 'is_closed': False, 'url': 'https://www.yelp.com/biz/99-favor-taste-new-york-12?adjust_creative=NTOFq0hWesFzHYCprBXMFw&utm_campaign=yelp_api_v3&utm_medium=api_v3_business_search&utm_source=NTOFq0hWesFzHYCprBXMFw', 'review_count': 1817, 'categories': [{'alias': 'chinese', 'title': 'Chinese'}, {'alias': 'hotpot', 'title': 'Hot Pot'}, {'alias': 'bbq', 'title': 'Barbeque'}], 'rating': 4.0, 'coordinates': {'latitude': 40.7176199, 'longitude': -73.99249}, 'transactions': ['restaurant_reservation'], 'price': '$$', 'location': {'address1': '285 Grand St', 'address2': '', 'address3': '', 'city': 'New York', 'zip_code': '10002', 'country': 'US', 'state': 'NY', 'display_address': ['285 Grand St', 'New York, NY 10002']}, 'phone': '+16466829162', 'display_phone': '(646) 682-9162', 'distance': 1348.6324758108813}, {'id': 'Q1TpfbuPwKPFrNFyu-u2_g', 'alias': 'han-dynasty-brooklyn-2', 'name': 'Han Dynasty', 'image_url': 'https://s3-media3.fl.yelpcdn.com/bphoto/vxbMumdu8Q1e3iCxJ2qZfQ/o.jpg', 'is_closed': False, 'url': 'https://www.yelp.com/biz/han-dynasty-brooklyn-2?adjust_creative=NTOFq0hWesFzHYCprBXMFw&utm_campaign=yelp_api_v3&utm_medium=api_v3_business_search&utm_source=NTOFq0hWesFzHYCprBXMFw', 'review_count': 260, 'categories': [{'alias': 'chinese', 'title': 'Chinese'}], 'rating': 4.0, 'coordinates': {'latitude': 40.6911319610036, 'longitude': -73.9825977757573}, 'transactions': ['pickup', 'delivery'], 'price': '$$', 'location': {'address1': '1 Dekalb Ave', 'address2': '', 'address3': None, 'city': 'Brooklyn', 'zip_code': '11201', 'country': 'US', 'state': 'NY', 'display_address': ['1 Dekalb Ave', 'Brooklyn, NY 11201']}, 'phone': '+17188580588', 'display_phone': '(718) 858-0588', 'distance': 1872.1778710541835}, {'id': 'ynB8T3htx8s5V0YV8gVPGA', 'alias': '21-shanghai-house-new-york-4', 'name': '21 Shanghai House', 'image_url': 'https://s3-media2.fl.yelpcdn.com/bphoto/JTTk7-6DC-xGzthdKRK4CA/o.jpg', 'is_closed': False, 'url': 'https://www.yelp.com/biz/21-shanghai-house-new-york-4?adjust_creative=NTOFq0hWesFzHYCprBXMFw&utm_campaign=yelp_api_v3&utm_medium=api_v3_business_search&utm_source=NTOFq0hWesFzHYCprBXMFw', 'review_count': 428, 'categories': [{'alias': 'shanghainese', 'title': 'Shanghainese'}, {'alias': 'dimsum', 'title': 'Dim Sum'}], 'rating': 4.0, 'coordinates': {'latitude': 40.7140138244835, 'longitude': -73.9964454932541}, 'transactions': ['pickup', 'delivery'], 'price': '$$', 'location': {'address1': '21 Division St', 'address2': '', 'address3': '', 'city': 'New York', 'zip_code': '10002', 'country': 'US', 'state': 'NY', 'display_address': ['21 Division St', 'New York, NY 10002']}, 'phone': '+12122268998', 'display_phone': '(212) 226-8998', 'distance': 969.9399795414205}, {'id': 'ikx8R8u2lmxhpLGByCjgPw', 'alias': 'house-special-甘來飯店-new-york', 'name': 'House Special 甘來飯店', 'image_url': 'https://s3-media2.fl.yelpcdn.com/bphoto/PO0lvtD9QTXh1Bt0j-S9mA/o.jpg', 'is_closed': False, 'url': 'https://www.yelp.com/biz/house-special-%E7%94%98%E4%BE%86%E9%A3%AF%E5%BA%97-new-york?adjust_creative=NTOFq0hWesFzHYCprBXMFw&utm_campaign=yelp_api_v3&utm_medium=api_v3_business_search&utm_source=NTOFq0hWesFzHYCprBXMFw', 'review_count': 53, 'categories': [{'alias': 'cantonese', 'title': 'Cantonese'}], 'rating': 4.0, 'coordinates': {'latitude': 40.71785, 'longitude': -73.9967999}, 'transactions': [], 'location': {'address1': '171 Hester St', 'address2': '', 'address3': None, 'city': 'New York', 'zip_code': '10013', 'country': 'US', 'state': 'NY', 'display_address': ['171 Hester St', 'New York, NY 10013']}, 'phone': '+12123439496', 'display_phone': '(212) 343-9496', 'distance': 1399.7906969149235}, {'id': 'sQw7aEos_0FmO0UFtrJokg', 'alias': 'clay-pot-west-village-new-york-2', 'name': 'Clay Pot - West Village', 'image_url': 'https://s3-media3.fl.yelpcdn.com/bphoto/SB72o38MykhuScBiLfxQ-g/o.jpg', 'is_closed': False, 'url': 'https://www.yelp.com/biz/clay-pot-west-village-new-york-2?adjust_creative=NTOFq0hWesFzHYCprBXMFw&utm_campaign=yelp_api_v3&utm_medium=api_v3_business_search&utm_source=NTOFq0hWesFzHYCprBXMFw', 'review_count': 70, 'categories': [{'alias': 'chinese', 'title': 'Chinese'}], 'rating': 4.5, 'coordinates': {'latitude': 40.73138, 'longitude': -74.00319}, 'transactions': ['pickup', 'delivery'], 'price': '$$', 'location': {'address1': '270 Bleeker St', 'address2': None, 'address3': '', 'city': 'New York', 'zip_code': '10014', 'country': 'US', 'state': 'NY', 'display_address': ['270 Bleeker St', 'New York, NY 10014']}, 'phone': '+19177756159', 'display_phone': '(917) 775-6159', 'distance': 2977.5019905000745}, {'id': 'sR-KTsDa4vafaDak9Ik2sQ', 'alias': 'hunan-house-new-york-6', 'name': 'Hunan House', 'image_url': 'https://s3-media4.fl.yelpcdn.com/bphoto/Og0IotCIR5TY8O2oyUk8Ew/o.jpg', 'is_closed': False, 'url': 'https://www.yelp.com/biz/hunan-house-new-york-6?adjust_creative=NTOFq0hWesFzHYCprBXMFw&utm_campaign=yelp_api_v3&utm_medium=api_v3_business_search&utm_source=NTOFq0hWesFzHYCprBXMFw', 'review_count': 257, 'categories': [{'alias': 'chinese', 'title': 'Chinese'}], 'rating': 3.5, 'coordinates': {'latitude': 40.76292, 'longitude': -73.97653}, 'transactions': ['pickup', 'delivery'], 'price': '$$', 'location': {'address1': '40 W 56th St', 'address2': '', 'address3': '', 'city': 'New York', 'zip_code': '10019', 'country': 'US', 'state': 'NY', 'display_address': ['40 W 56th St', 'New York, NY 10019']}, 'phone': '+12122132299', 'display_phone': '(212) 213-2299', 'distance': 6567.77167134254}, {'id': 'xH7mEjh4Rn6KdHjXYNoOjw', 'alias': 'yaso-tangbao-brooklyn', 'name': 'Yaso Tangbao', 'image_url': 'https://s3-media4.fl.yelpcdn.com/bphoto/AKGztA9MXJM3Ykd8Ofm36Q/o.jpg', 'is_closed': False, 'url': 'https://www.yelp.com/biz/yaso-tangbao-brooklyn?adjust_creative=NTOFq0hWesFzHYCprBXMFw&utm_campaign=yelp_api_v3&utm_medium=api_v3_business_search&utm_source=NTOFq0hWesFzHYCprBXMFw', 'review_count': 753, 'categories': [{'alias': 'shanghainese', 'title': 'Shanghainese'}], 'rating': 3.5, 'coordinates': {'latitude': 40.6918206366101, 'longitude': -73.9863992364001}, 'transactions': ['pickup', 'delivery'], 'price': '$$', 'location': {'address1': '148 Lawrence St', 'address2': '', 'address3': '', 'city': 'Brooklyn', 'zip_code': '11201', 'country': 'US', 'state': 'NY', 'display_address': ['148 Lawrence St', 'Brooklyn, NY 11201']}, 'phone': '+19293377599', 'display_phone': '(929) 337-7599', 'distance': 1654.6654435111413}, {'id': 'xVduej7-JiPrZzsFXIkIDw', 'alias': 'lazy-sius-brooklyn', 'name': \"Lazy Siu's\", 'image_url': 'https://s3-media1.fl.yelpcdn.com/bphoto/0s0ZcA2sk__SsM_xNhwHbg/o.jpg', 'is_closed': False, 'url': 'https://www.yelp.com/biz/lazy-sius-brooklyn?adjust_creative=NTOFq0hWesFzHYCprBXMFw&utm_campaign=yelp_api_v3&utm_medium=api_v3_business_search&utm_source=NTOFq0hWesFzHYCprBXMFw', 'review_count': 30, 'categories': [{'alias': 'chinese', 'title': 'Chinese'}, {'alias': 'bbq', 'title': 'Barbeque'}], 'rating': 5.0, 'coordinates': {'latitude': 40.71261, 'longitude': -73.96077}, 'transactions': ['pickup', 'delivery'], 'location': {'address1': '742 Driggs Ave', 'address2': '', 'address3': None, 'city': 'Brooklyn', 'zip_code': '11211', 'country': 'US', 'state': 'NY', 'display_address': ['742 Driggs Ave', 'Brooklyn, NY 11211']}, 'phone': '+19293376352', 'display_phone': '(929) 337-6352', 'distance': 2933.585593999067}, {'id': '8ig0yf0003DAp4YOGTlbVg', 'alias': 'spicy-village-new-york', 'name': 'Spicy Village', 'image_url': 'https://s3-media3.fl.yelpcdn.com/bphoto/-2Lutxll4CVMAEzHvDAqxg/o.jpg', 'is_closed': False, 'url': 'https://www.yelp.com/biz/spicy-village-new-york?adjust_creative=NTOFq0hWesFzHYCprBXMFw&utm_campaign=yelp_api_v3&utm_medium=api_v3_business_search&utm_source=NTOFq0hWesFzHYCprBXMFw', 'review_count': 639, 'categories': [{'alias': 'chinese', 'title': 'Chinese'}], 'rating': 4.0, 'coordinates': {'latitude': 40.71695, 'longitude': -73.99327}, 'transactions': ['pickup', 'delivery'], 'price': '$', 'location': {'address1': '68 Forsyth St', 'address2': 'Ste B', 'address3': '', 'city': 'New York', 'zip_code': '10002', 'country': 'US', 'state': 'NY', 'display_address': ['68 Forsyth St', 'Ste B', 'New York, NY 10002']}, 'phone': '+12126258299', 'display_phone': '(212) 625-8299', 'distance': 1290.0560443478676}, {'id': 'f_OiLWqldSmNy1MAvtWlPQ', 'alias': 'cyclo-long-island-city', 'name': 'Cyclo', 'image_url': 'https://s3-media3.fl.yelpcdn.com/bphoto/7KpUQO7Ve9mGD_WG71G1Gg/o.jpg', 'is_closed': False, 'url': 'https://www.yelp.com/biz/cyclo-long-island-city?adjust_creative=NTOFq0hWesFzHYCprBXMFw&utm_campaign=yelp_api_v3&utm_medium=api_v3_business_search&utm_source=NTOFq0hWesFzHYCprBXMFw', 'review_count': 491, 'categories': [{'alias': 'vietnamese', 'title': 'Vietnamese'}, {'alias': 'sandwiches', 'title': 'Sandwiches'}, {'alias': 'noodles', 'title': 'Noodles'}], 'rating': 4.0, 'coordinates': {'latitude': 40.745714, 'longitude': -73.953549}, 'transactions': ['pickup', 'delivery'], 'price': '$$', 'location': {'address1': '5-51 47th Ave', 'address2': '', 'address3': '', 'city': 'Long Island City', 'zip_code': '11101', 'country': 'US', 'state': 'NY', 'display_address': ['5-51 47th Ave', 'Long Island City, NY 11101']}, 'phone': '+17187868309', 'display_phone': '(718) 786-8309', 'distance': 5642.560382319857}, {'id': 'lkWcA6W73HDgogF5D104-w', 'alias': 'grand-shanghai-house-new-york', 'name': 'Grand Shanghai House', 'image_url': 'https://s3-media1.fl.yelpcdn.com/bphoto/HlRgKrSVKP3MbxZXrSV_6w/o.jpg', 'is_closed': False, 'url': 'https://www.yelp.com/biz/grand-shanghai-house-new-york?adjust_creative=NTOFq0hWesFzHYCprBXMFw&utm_campaign=yelp_api_v3&utm_medium=api_v3_business_search&utm_source=NTOFq0hWesFzHYCprBXMFw', 'review_count': 19, 'categories': [{'alias': 'shanghainese', 'title': 'Shanghainese'}, {'alias': 'dimsum', 'title': 'Dim Sum'}], 'rating': 4.5, 'coordinates': {'latitude': 40.714603, 'longitude': -73.997787}, 'transactions': ['pickup', 'delivery'], 'location': {'address1': '9 Pell St', 'address2': '', 'address3': None, 'city': 'New York', 'zip_code': '10013', 'country': 'US', 'state': 'NY', 'display_address': ['9 Pell St', 'New York, NY 10013']}, 'phone': '+12122332888', 'display_phone': '(212) 233-2888', 'distance': 1062.0358068954072}, {'id': '3nATnhLyWRvbUGRwK2zdXQ', 'alias': 'zen-yai-pho-noodle-bar-brooklyn', 'name': 'Zen Yai Pho Noodle Bar', 'image_url': 'https://s3-media1.fl.yelpcdn.com/bphoto/ARHKXFPk69krNaaK9dXWdA/o.jpg', 'is_closed': False, 'url': 'https://www.yelp.com/biz/zen-yai-pho-noodle-bar-brooklyn?adjust_creative=NTOFq0hWesFzHYCprBXMFw&utm_campaign=yelp_api_v3&utm_medium=api_v3_business_search&utm_source=NTOFq0hWesFzHYCprBXMFw', 'review_count': 74, 'categories': [{'alias': 'vietnamese', 'title': 'Vietnamese'}, {'alias': 'thai', 'title': 'Thai'}, {'alias': 'noodles', 'title': 'Noodles'}], 'rating': 4.5, 'coordinates': {'latitude': 40.713897, 'longitude': -73.960337}, 'transactions': ['restaurant_reservation'], 'price': '$$', 'location': {'address1': '208 Grand St', 'address2': '', 'address3': None, 'city': 'Brooklyn', 'zip_code': '11211', 'country': 'US', 'state': 'NY', 'display_address': ['208 Grand St', 'Brooklyn, NY 11211']}, 'phone': '+13478895150', 'display_phone': '(347) 889-5150', 'distance': 3006.9132671682305}, {'id': '0Lnp_fi3gI2bfJ8RcMDfjg', 'alias': 'gen-brooklyn', 'name': 'Gen', 'image_url': 'https://s3-media3.fl.yelpcdn.com/bphoto/E8LdY3EaLA_khmOh7_iSUQ/o.jpg', 'is_closed': False, 'url': 'https://www.yelp.com/biz/gen-brooklyn?adjust_creative=NTOFq0hWesFzHYCprBXMFw&utm_campaign=yelp_api_v3&utm_medium=api_v3_business_search&utm_source=NTOFq0hWesFzHYCprBXMFw', 'review_count': 273, 'categories': [{'alias': 'japanese', 'title': 'Japanese'}, {'alias': 'sushi', 'title': 'Sushi Bars'}], 'rating': 4.0, 'coordinates': {'latitude': 40.677639, 'longitude': -73.963485}, 'transactions': ['pickup', 'delivery'], 'price': '$$', 'location': {'address1': '659 Washington Ave', 'address2': '', 'address3': '', 'city': 'Brooklyn', 'zip_code': '11238', 'country': 'US', 'state': 'NY', 'display_address': ['659 Washington Ave', 'Brooklyn, NY 11238']}, 'phone': '+17183983550', 'display_phone': '(718) 398-3550', 'distance': 4037.7232033486}, {'id': 'Lp8vAE5nHSt5zbu-lSGK8A', 'alias': 'hop-lee-restaurant-new-york', 'name': 'Hop Lee Restaurant', 'image_url': 'https://s3-media1.fl.yelpcdn.com/bphoto/vfOBi3yWlwHkYQosGOJ8hg/o.jpg', 'is_closed': False, 'url': 'https://www.yelp.com/biz/hop-lee-restaurant-new-york?adjust_creative=NTOFq0hWesFzHYCprBXMFw&utm_campaign=yelp_api_v3&utm_medium=api_v3_business_search&utm_source=NTOFq0hWesFzHYCprBXMFw', 'review_count': 303, 'categories': [{'alias': 'chinese', 'title': 'Chinese'}, {'alias': 'seafood', 'title': 'Seafood'}, {'alias': 'noodles', 'title': 'Noodles'}], 'rating': 4.0, 'coordinates': {'latitude': 40.71426, 'longitude': -73.99849}, 'transactions': [], 'price': '$$', 'location': {'address1': '16 Mott St', 'address2': '', 'address3': '', 'city': 'New York', 'zip_code': '10013', 'country': 'US', 'state': 'NY', 'display_address': ['16 Mott St', 'New York, NY 10013']}, 'phone': '+12129626475', 'display_phone': '(212) 962-6475', 'distance': 1039.1711856890965}, {'id': 'oXkCGBRjP-qERDlEgPlwxQ', 'alias': 'precious-island-dim-sum-staten-island-3', 'name': 'Precious Island Dim Sum', 'image_url': 'https://s3-media1.fl.yelpcdn.com/bphoto/Msmr3Zsq2ljzD4MQ0hf6FA/o.jpg', 'is_closed': False, 'url': 'https://www.yelp.com/biz/precious-island-dim-sum-staten-island-3?adjust_creative=NTOFq0hWesFzHYCprBXMFw&utm_campaign=yelp_api_v3&utm_medium=api_v3_business_search&utm_source=NTOFq0hWesFzHYCprBXMFw', 'review_count': 147, 'categories': [{'alias': 'cantonese', 'title': 'Cantonese'}, {'alias': 'dimsum', 'title': 'Dim Sum'}], 'rating': 4.0, 'coordinates': {'latitude': 40.570595, 'longitude': -74.110448}, 'transactions': ['pickup', 'delivery'], 'price': '$$', 'location': {'address1': '366 New Dorp Ln', 'address2': '', 'address3': None, 'city': 'Staten Island', 'zip_code': '10306', 'country': 'US', 'state': 'NY', 'display_address': ['366 New Dorp Ln', 'Staten Island, NY 10306']}, 'phone': '+17186682700', 'display_phone': '(718) 668-2700', 'distance': 17913.627633662156}, {'id': 'dDXtga5Kgo5B1twdezcZJA', 'alias': 'auntie-guans-kitchen-108-new-york', 'name': \"Auntie Guan's Kitchen 108\", 'image_url': 'https://s3-media3.fl.yelpcdn.com/bphoto/FBxjWFECyQ89qtExjlzdvQ/o.jpg', 'is_closed': False, 'url': 'https://www.yelp.com/biz/auntie-guans-kitchen-108-new-york?adjust_creative=NTOFq0hWesFzHYCprBXMFw&utm_campaign=yelp_api_v3&utm_medium=api_v3_business_search&utm_source=NTOFq0hWesFzHYCprBXMFw', 'review_count': 333, 'categories': [{'alias': 'chinese', 'title': 'Chinese'}, {'alias': 'asianfusion', 'title': 'Asian Fusion'}], 'rating': 3.5, 'coordinates': {'latitude': 40.7377213477598, 'longitude': -73.9974148512518}, 'transactions': ['pickup', 'delivery'], 'price': '$$', 'location': {'address1': '108 W 14th St', 'address2': '', 'address3': '', 'city': 'New York', 'zip_code': '10011', 'country': 'US', 'state': 'NY', 'display_address': ['108 W 14th St', 'New York, NY 10011']}, 'phone': '+12122068388', 'display_phone': '(212) 206-8388', 'distance': 3598.605789455146}, {'id': 'bSi2f2TaOr4RVTI5eFt0wQ', 'alias': 'taste-of-north-china-jersey-city', 'name': 'Taste Of North China', 'image_url': 'https://s3-media1.fl.yelpcdn.com/bphoto/Rw30BCZuDlfbIouScSQs-A/o.jpg', 'is_closed': False, 'url': 'https://www.yelp.com/biz/taste-of-north-china-jersey-city?adjust_creative=NTOFq0hWesFzHYCprBXMFw&utm_campaign=yelp_api_v3&utm_medium=api_v3_business_search&utm_source=NTOFq0hWesFzHYCprBXMFw', 'review_count': 213, 'categories': [{'alias': 'chinese', 'title': 'Chinese'}], 'rating': 3.0, 'coordinates': {'latitude': 40.7167868, 'longitude': -74.0377625661521}, 'transactions': ['pickup', 'delivery'], 'price': '$$', 'location': {'address1': '75 Montgomery St', 'address2': '', 'address3': '', 'city': 'Jersey City', 'zip_code': '07302', 'country': 'US', 'state': 'NJ', 'display_address': ['75 Montgomery St', 'Jersey City, NJ 07302']}, 'phone': '+12015211800', 'display_phone': '(201) 521-1800', 'distance': 3874.8623640108563}, {'id': 'B3_K2kUVbYOU0VaLcj_LTw', 'alias': 'thai-villa-new-york-2', 'name': 'Thai Villa', 'image_url': 'https://s3-media1.fl.yelpcdn.com/bphoto/OgCU9NPFIl8hF_04Zani9w/o.jpg', 'is_closed': False, 'url': 'https://www.yelp.com/biz/thai-villa-new-york-2?adjust_creative=NTOFq0hWesFzHYCprBXMFw&utm_campaign=yelp_api_v3&utm_medium=api_v3_business_search&utm_source=NTOFq0hWesFzHYCprBXMFw', 'review_count': 3228, 'categories': [{'alias': 'thai', 'title': 'Thai'}, {'alias': 'asianfusion', 'title': 'Asian Fusion'}], 'rating': 4.5, 'coordinates': {'latitude': 40.73902, 'longitude': -73.99065}, 'transactions': ['pickup', 'delivery'], 'price': '$$', 'location': {'address1': '5 E 19th St', 'address2': 'G Floor', 'address3': '', 'city': 'New York', 'zip_code': '10003', 'country': 'US', 'state': 'NY', 'display_address': ['5 E 19th St', 'G Floor', 'New York, NY 10003']}, 'phone': '+12128029999', 'display_phone': '(212) 802-9999', 'distance': 3744.570399827637}, {'id': '4FD0TAxe70nb3ngk3sXF9Q', 'alias': 'uluh-new-york', 'name': 'Uluh', 'image_url': 'https://s3-media3.fl.yelpcdn.com/bphoto/ZPv7XlXR5ZnD3S_AAV3jXg/o.jpg', 'is_closed': False, 'url': 'https://www.yelp.com/biz/uluh-new-york?adjust_creative=NTOFq0hWesFzHYCprBXMFw&utm_campaign=yelp_api_v3&utm_medium=api_v3_business_search&utm_source=NTOFq0hWesFzHYCprBXMFw', 'review_count': 220, 'categories': [{'alias': 'tea', 'title': 'Tea Rooms'}, {'alias': 'dimsum', 'title': 'Dim Sum'}], 'rating': 4.0, 'coordinates': {'latitude': 40.7293403, 'longitude': -73.9866071}, 'transactions': [], 'price': '$$$', 'location': {'address1': '152 2nd Ave', 'address2': 'Ste A', 'address3': '', 'city': 'New York', 'zip_code': '10003', 'country': 'US', 'state': 'NY', 'display_address': ['152 2nd Ave', 'Ste A', 'New York, NY 10003']}, 'phone': '+19172615963', 'display_phone': '(917) 261-5963', 'distance': 2734.8706531999514}, {'id': '44SY464xDHbvOcjDzRbKkQ', 'alias': 'ippudo-ny-new-york-7', 'name': 'Ippudo NY', 'image_url': 'https://s3-media1.fl.yelpcdn.com/bphoto/zF3EgqHCk7zBUwD2B3WTEA/o.jpg', 'is_closed': False, 'url': 'https://www.yelp.com/biz/ippudo-ny-new-york-7?adjust_creative=NTOFq0hWesFzHYCprBXMFw&utm_campaign=yelp_api_v3&utm_medium=api_v3_business_search&utm_source=NTOFq0hWesFzHYCprBXMFw', 'review_count': 9930, 'categories': [{'alias': 'ramen', 'title': 'Ramen'}], 'rating': 4.0, 'coordinates': {'latitude': 40.73092, 'longitude': -73.99015}, 'transactions': ['pickup', 'delivery'], 'price': '$$', 'location': {'address1': '65 4th Ave', 'address2': '', 'address3': '', 'city': 'New York', 'zip_code': '10003', 'country': 'US', 'state': 'NY', 'display_address': ['65 4th Ave', 'New York, NY 10003']}, 'phone': '', 'display_phone': '', 'distance': 2854.3012674083675}, {'id': 'YdAtCf_13UK-uvXuOMrhNg', 'alias': 'radiance-new-york-2', 'name': 'Radiance', 'image_url': 'https://s3-media3.fl.yelpcdn.com/bphoto/LUKcSH6gt8OsMlBPKgEzVw/o.jpg', 'is_closed': False, 'url': 'https://www.yelp.com/biz/radiance-new-york-2?adjust_creative=NTOFq0hWesFzHYCprBXMFw&utm_campaign=yelp_api_v3&utm_medium=api_v3_business_search&utm_source=NTOFq0hWesFzHYCprBXMFw', 'review_count': 170, 'categories': [{'alias': 'chinese', 'title': 'Chinese'}, {'alias': 'tea', 'title': 'Tea Rooms'}, {'alias': 'venues', 'title': 'Venues & Event Spaces'}], 'rating': 4.0, 'coordinates': {'latitude': 40.7555779423723, 'longitude': -73.9703503944427}, 'transactions': [], 'price': '$$', 'location': {'address1': '208 E 50th St', 'address2': '', 'address3': '2nd & 3rd Ave', 'city': 'New York', 'zip_code': '10022', 'country': 'US', 'state': 'NY', 'display_address': ['208 E 50th St', '2nd & 3rd Ave', 'New York, NY 10022']}, 'phone': '+12128888060', 'display_phone': '(212) 888-8060', 'distance': 5928.376828289985}, {'id': 'wDuf4Qz9qsC62amLZgWNJQ', 'alias': 'little-alley-new-york', 'name': 'Little Alley', 'image_url': 'https://s3-media2.fl.yelpcdn.com/bphoto/cO7HS1-JRRM6Ak-jRC1oaQ/o.jpg', 'is_closed': False, 'url': 'https://www.yelp.com/biz/little-alley-new-york?adjust_creative=NTOFq0hWesFzHYCprBXMFw&utm_campaign=yelp_api_v3&utm_medium=api_v3_business_search&utm_source=NTOFq0hWesFzHYCprBXMFw', 'review_count': 350, 'categories': [{'alias': 'shanghainese', 'title': 'Shanghainese'}], 'rating': 4.0, 'coordinates': {'latitude': 40.74744, 'longitude': -73.97728}, 'transactions': ['pickup', 'delivery'], 'price': '$$', 'location': {'address1': '550 3rd Ave', 'address2': None, 'address3': '', 'city': 'New York', 'zip_code': '10016', 'country': 'US', 'state': 'NY', 'display_address': ['550 3rd Ave', 'New York, NY 10016']}, 'phone': '+16469983976', 'display_phone': '(646) 998-3976', 'distance': 4884.535223706498}, {'id': 'Kqb7MjTPNkjPMoFRd-rWpw', 'alias': 'málà-project-new-york', 'name': 'MáLà Project', 'image_url': 'https://s3-media4.fl.yelpcdn.com/bphoto/PFR2C4TiLBTUcMUpznUXlg/o.jpg', 'is_closed': False, 'url': 'https://www.yelp.com/biz/m%C3%A1l%C3%A0-project-new-york?adjust_creative=NTOFq0hWesFzHYCprBXMFw&utm_campaign=yelp_api_v3&utm_medium=api_v3_business_search&utm_source=NTOFq0hWesFzHYCprBXMFw', 'review_count': 628, 'categories': [{'alias': 'chinese', 'title': 'Chinese'}], 'rating': 4.0, 'coordinates': {'latitude': 40.72713, 'longitude': -73.98542}, 'transactions': ['pickup', 'delivery'], 'price': '$$', 'location': {'address1': '122 1st Ave', 'address2': '', 'address3': '', 'city': 'New York', 'zip_code': '10009', 'country': 'US', 'state': 'NY', 'display_address': ['122 1st Ave', 'New York, NY 10009']}, 'phone': '+12123538880', 'display_phone': '(212) 353-8880', 'distance': 2523.2680723643457}, {'id': '3gqKLANaXNsHZnPDjKrcTg', 'alias': 'win-son-brooklyn-4', 'name': 'Win Son', 'image_url': 'https://s3-media3.fl.yelpcdn.com/bphoto/eE8TYVtaCxriBRUIwsecnA/o.jpg', 'is_closed': False, 'url': 'https://www.yelp.com/biz/win-son-brooklyn-4?adjust_creative=NTOFq0hWesFzHYCprBXMFw&utm_campaign=yelp_api_v3&utm_medium=api_v3_business_search&utm_source=NTOFq0hWesFzHYCprBXMFw', 'review_count': 467, 'categories': [{'alias': 'taiwanese', 'title': 'Taiwanese'}, {'alias': 'newamerican', 'title': 'American (New)'}, {'alias': 'asianfusion', 'title': 'Asian Fusion'}], 'rating': 4.0, 'coordinates': {'latitude': 40.70747, 'longitude': -73.94339}, 'transactions': [], 'price': '$$', 'location': {'address1': '159 Graham Ave', 'address2': None, 'address3': '', 'city': 'Brooklyn', 'zip_code': '11206', 'country': 'US', 'state': 'NY', 'display_address': ['159 Graham Ave', 'Brooklyn, NY 11206']}, 'phone': '+13474576010', 'display_phone': '(347) 457-6010', 'distance': 4288.123697814991}, {'id': '83BXSwE0166sObnXLUE4bQ', 'alias': 'land-new-york', 'name': 'Land', 'image_url': 'https://s3-media2.fl.yelpcdn.com/bphoto/ptDV_QtdeLeSvBZs-tTqWA/o.jpg', 'is_closed': False, 'url': 'https://www.yelp.com/biz/land-new-york?adjust_creative=NTOFq0hWesFzHYCprBXMFw&utm_campaign=yelp_api_v3&utm_medium=api_v3_business_search&utm_source=NTOFq0hWesFzHYCprBXMFw', 'review_count': 1047, 'categories': [{'alias': 'thai', 'title': 'Thai'}], 'rating': 4.0, 'coordinates': {'latitude': 40.78497, 'longitude': -73.9772182}, 'transactions': ['pickup', 'delivery'], 'price': '$$', 'location': {'address1': '450 Amsterdam Ave', 'address2': None, 'address3': '', 'city': 'New York', 'zip_code': '10024', 'country': 'US', 'state': 'NY', 'display_address': ['450 Amsterdam Ave', 'New York, NY 10024']}, 'phone': '+12125018121', 'display_phone': '(212) 501-8121', 'distance': 8959.014790043642}, {'id': 'scTDvJ2M2jDbb1ntVeIyxA', 'alias': 'hao-noodle-and-tea-by-madam-zhus-kitchen-new-york', 'name': \"Hao Noodle and Tea By Madam Zhu's Kitchen\", 'image_url': 'https://s3-media3.fl.yelpcdn.com/bphoto/-YTJEOzQTdcGe3GmwmzQYA/o.jpg', 'is_closed': False, 'url': 'https://www.yelp.com/biz/hao-noodle-and-tea-by-madam-zhus-kitchen-new-york?adjust_creative=NTOFq0hWesFzHYCprBXMFw&utm_campaign=yelp_api_v3&utm_medium=api_v3_business_search&utm_source=NTOFq0hWesFzHYCprBXMFw', 'review_count': 727, 'categories': [{'alias': 'chinese', 'title': 'Chinese'}, {'alias': 'noodles', 'title': 'Noodles'}], 'rating': 4.0, 'coordinates': {'latitude': 40.7334863190479, 'longitude': -73.9998929006093}, 'transactions': ['pickup', 'delivery'], 'price': '$$', 'location': {'address1': '401 6th Ave', 'address2': '', 'address3': '', 'city': 'New York', 'zip_code': '10014', 'country': 'US', 'state': 'NY', 'display_address': ['401 6th Ave', 'New York, NY 10014']}, 'phone': '+12126338900', 'display_phone': '(212) 633-8900', 'distance': 3153.574300459982}, {'id': 'MdDj13LgIs0WdbIdiyqB7Q', 'alias': 'pinch-chinese-new-york-2', 'name': 'Pinch Chinese', 'image_url': 'https://s3-media3.fl.yelpcdn.com/bphoto/5YkuAzXSx9HrzNmuvfxAxg/o.jpg', 'is_closed': False, 'url': 'https://www.yelp.com/biz/pinch-chinese-new-york-2?adjust_creative=NTOFq0hWesFzHYCprBXMFw&utm_campaign=yelp_api_v3&utm_medium=api_v3_business_search&utm_source=NTOFq0hWesFzHYCprBXMFw', 'review_count': 341, 'categories': [{'alias': 'chinese', 'title': 'Chinese'}, {'alias': 'wine_bars', 'title': 'Wine Bars'}, {'alias': 'cocktailbars', 'title': 'Cocktail Bars'}], 'rating': 3.5, 'coordinates': {'latitude': 40.72645, 'longitude': -74.0018}, 'transactions': ['pickup', 'delivery'], 'price': '$$', 'location': {'address1': '177 Prince St', 'address2': '', 'address3': None, 'city': 'New York', 'zip_code': '10012', 'country': 'US', 'state': 'NY', 'display_address': ['177 Prince St', 'New York, NY 10012']}, 'phone': '+12123287880', 'display_phone': '(212) 328-7880', 'distance': 2425.1381251017174}, {'id': '4wfFugovobVrqSQ77ppjaQ', 'alias': 'uncle-chop-chop-new-york', 'name': 'Uncle Chop Chop', 'image_url': 'https://s3-media4.fl.yelpcdn.com/bphoto/s0NZ3snI0WzuVNtit8VCcg/o.jpg', 'is_closed': False, 'url': 'https://www.yelp.com/biz/uncle-chop-chop-new-york?adjust_creative=NTOFq0hWesFzHYCprBXMFw&utm_campaign=yelp_api_v3&utm_medium=api_v3_business_search&utm_source=NTOFq0hWesFzHYCprBXMFw', 'review_count': 61, 'categories': [{'alias': 'cocktailbars', 'title': 'Cocktail Bars'}, {'alias': 'asianfusion', 'title': 'Asian Fusion'}], 'rating': 4.0, 'coordinates': {'latitude': 40.7316883151894, 'longitude': -74.0016427455464}, 'transactions': ['pickup', 'delivery'], 'location': {'address1': '7 Cornelia St', 'address2': '', 'address3': None, 'city': 'New York', 'zip_code': '10014', 'country': 'US', 'state': 'NY', 'display_address': ['7 Cornelia St', 'New York, NY 10014']}, 'phone': '+19172615346', 'display_phone': '(917) 261-5346', 'distance': 2983.1471387428537}, {'id': 'B7bxdtvLYR7Nmex4AIFd4w', 'alias': 'redfarm-new-york-2', 'name': 'RedFarm', 'image_url': 'https://s3-media4.fl.yelpcdn.com/bphoto/91FP1Kb_-CPfZlcAOy8rDw/o.jpg', 'is_closed': False, 'url': 'https://www.yelp.com/biz/redfarm-new-york-2?adjust_creative=NTOFq0hWesFzHYCprBXMFw&utm_campaign=yelp_api_v3&utm_medium=api_v3_business_search&utm_source=NTOFq0hWesFzHYCprBXMFw', 'review_count': 602, 'categories': [{'alias': 'dimsum', 'title': 'Dim Sum'}, {'alias': 'cantonese', 'title': 'Cantonese'}, {'alias': 'asianfusion', 'title': 'Asian Fusion'}], 'rating': 3.5, 'coordinates': {'latitude': 40.782051, 'longitude': -73.980415}, 'transactions': [], 'price': '$$$', 'location': {'address1': '2170 Broadway', 'address2': '', 'address3': '', 'city': 'New York', 'zip_code': '10024', 'country': 'US', 'state': 'NY', 'display_address': ['2170 Broadway', 'New York, NY 10024']}, 'phone': '+12127249700', 'display_phone': '(212) 724-9700', 'distance': 8601.638115921005}, {'id': 'P2bxlKAmRWZIpHdJ_JT3fg', 'alias': 'east-harbor-seafood-palace-brooklyn', 'name': 'East Harbor Seafood Palace', 'image_url': 'https://s3-media1.fl.yelpcdn.com/bphoto/T9FbeVKIQ2OspPusqs7Wzg/o.jpg', 'is_closed': False, 'url': 'https://www.yelp.com/biz/east-harbor-seafood-palace-brooklyn?adjust_creative=NTOFq0hWesFzHYCprBXMFw&utm_campaign=yelp_api_v3&utm_medium=api_v3_business_search&utm_source=NTOFq0hWesFzHYCprBXMFw', 'review_count': 673, 'categories': [{'alias': 'dimsum', 'title': 'Dim Sum'}, {'alias': 'cantonese', 'title': 'Cantonese'}, {'alias': 'seafood', 'title': 'Seafood'}], 'rating': 4.0, 'coordinates': {'latitude': 40.633533, 'longitude': -74.014343}, 'transactions': [], 'price': '$$', 'location': {'address1': '714 65th St', 'address2': '', 'address3': '', 'city': 'Brooklyn', 'zip_code': '11220', 'country': 'US', 'state': 'NY', 'display_address': ['714 65th St', 'Brooklyn, NY 11220']}, 'phone': '+17187650098', 'display_phone': '(718) 765-0098', 'distance': 8173.068363777883}, {'id': 'FYWwW5lcxKzaA98Xgw8bqA', 'alias': 'hanon-brooklyn', 'name': 'hanon', 'image_url': 'https://s3-media3.fl.yelpcdn.com/bphoto/RQz8Yzxa66xQ07DxVgsgbQ/o.jpg', 'is_closed': False, 'url': 'https://www.yelp.com/biz/hanon-brooklyn?adjust_creative=NTOFq0hWesFzHYCprBXMFw&utm_campaign=yelp_api_v3&utm_medium=api_v3_business_search&utm_source=NTOFq0hWesFzHYCprBXMFw', 'review_count': 94, 'categories': [{'alias': 'japanese', 'title': 'Japanese'}, {'alias': 'noodles', 'title': 'Noodles'}, {'alias': 'tapasmallplates', 'title': 'Tapas/Small Plates'}], 'rating': 4.5, 'coordinates': {'latitude': 40.7134488, 'longitude': -73.9513445}, 'transactions': [], 'price': '$$', 'location': {'address1': '436 Union Ave', 'address2': '', 'address3': None, 'city': 'Brooklyn', 'zip_code': '11211', 'country': 'US', 'state': 'NY', 'display_address': ['436 Union Ave', 'Brooklyn, NY 11211']}, 'phone': '+13477991433', 'display_phone': '(347) 799-1433', 'distance': 3727.886088653943}, {'id': 'rPTX2J5KGDkN1QhPD-QOvg', 'alias': 'xifu-food-brooklyn', 'name': 'Xifu Food', 'image_url': 'https://s3-media2.fl.yelpcdn.com/bphoto/SiWrJqq1wyIbUWFbhjgoXQ/o.jpg', 'is_closed': False, 'url': 'https://www.yelp.com/biz/xifu-food-brooklyn?adjust_creative=NTOFq0hWesFzHYCprBXMFw&utm_campaign=yelp_api_v3&utm_medium=api_v3_business_search&utm_source=NTOFq0hWesFzHYCprBXMFw', 'review_count': 133, 'categories': [{'alias': 'chinese', 'title': 'Chinese'}], 'rating': 4.5, 'coordinates': {'latitude': 40.6880326, 'longitude': -73.9819963}, 'transactions': [], 'price': '$', 'location': {'address1': '318 Livingston St', 'address2': '', 'address3': None, 'city': 'Brooklyn', 'zip_code': '11217', 'country': 'US', 'state': 'NY', 'display_address': ['318 Livingston St', 'Brooklyn, NY 11217']}, 'phone': '+17182378886', 'display_phone': '(718) 237-8886', 'distance': 2200.5244386792956}, {'id': 'SNhDVaf_n7VDZcfry8mYdA', 'alias': 'the-bao-new-york', 'name': 'The Bao', 'image_url': 'https://s3-media2.fl.yelpcdn.com/bphoto/b9SvT0WV7uFQpFG_85A9MQ/o.jpg', 'is_closed': False, 'url': 'https://www.yelp.com/biz/the-bao-new-york?adjust_creative=NTOFq0hWesFzHYCprBXMFw&utm_campaign=yelp_api_v3&utm_medium=api_v3_business_search&utm_source=NTOFq0hWesFzHYCprBXMFw', 'review_count': 1180, 'categories': [{'alias': 'chinese', 'title': 'Chinese'}], 'rating': 4.0, 'coordinates': {'latitude': 40.72939, 'longitude': -73.9889199}, 'transactions': ['pickup', 'delivery'], 'price': '$$', 'location': {'address1': '13 St Marks Pl', 'address2': '', 'address3': '', 'city': 'New York', 'zip_code': '10003', 'country': 'US', 'state': 'NY', 'display_address': ['13 St Marks Pl', 'New York, NY 10003']}, 'phone': '+12123889238', 'display_phone': '(212) 388-9238', 'distance': 2697.5233343657724}, {'id': 'R7EGjHWw0tNheY6-ahH8fQ', 'alias': 'tuome-new-york-2', 'name': 'Tuome', 'image_url': 'https://s3-media1.fl.yelpcdn.com/bphoto/J5agtut4uApn4gpvnPmv1A/o.jpg', 'is_closed': False, 'url': 'https://www.yelp.com/biz/tuome-new-york-2?adjust_creative=NTOFq0hWesFzHYCprBXMFw&utm_campaign=yelp_api_v3&utm_medium=api_v3_business_search&utm_source=NTOFq0hWesFzHYCprBXMFw', 'review_count': 483, 'categories': [{'alias': 'newamerican', 'title': 'American (New)'}, {'alias': 'chinese', 'title': 'Chinese'}], 'rating': 4.5, 'coordinates': {'latitude': 40.72412482724, 'longitude': -73.9828906263924}, 'transactions': [], 'price': '$$$', 'location': {'address1': '536 E 5th St', 'address2': '', 'address3': None, 'city': 'New York', 'zip_code': '10009', 'country': 'US', 'state': 'NY', 'display_address': ['536 E 5th St', 'New York, NY 10009']}, 'phone': '+16468337811', 'display_phone': '(646) 833-7811', 'distance': 2288.6649662214686}, {'id': 'BPErPpKSNluwcjbKRgze3w', 'alias': 'xian-famous-foods-new-york-38', 'name': \"Xi'an Famous Foods\", 'image_url': 'https://s3-media2.fl.yelpcdn.com/bphoto/uyFHmeLlCu5KOA8b7ypPqA/o.jpg', 'is_closed': False, 'url': 'https://www.yelp.com/biz/xian-famous-foods-new-york-38?adjust_creative=NTOFq0hWesFzHYCprBXMFw&utm_campaign=yelp_api_v3&utm_medium=api_v3_business_search&utm_source=NTOFq0hWesFzHYCprBXMFw', 'review_count': 507, 'categories': [{'alias': 'chinese', 'title': 'Chinese'}, {'alias': 'noodles', 'title': 'Noodles'}, {'alias': 'burgers', 'title': 'Burgers'}], 'rating': 4.0, 'coordinates': {'latitude': 40.77197, 'longitude': -73.95452}, 'transactions': [], 'price': '$', 'location': {'address1': '328 E 78th St', 'address2': '', 'address3': '', 'city': 'New York', 'zip_code': '10075', 'country': 'US', 'state': 'NY', 'display_address': ['328 E 78th St', 'New York, NY 10075']}, 'phone': '', 'display_phone': '', 'distance': 8122.343683975649}, {'id': '6lUsFj0KCao678o9L7QwUw', 'alias': 'hatsuhana-sushi-restaurant-new-york', 'name': 'Hatsuhana Sushi Restaurant', 'image_url': 'https://s3-media2.fl.yelpcdn.com/bphoto/yqxu_IyzeCxuKgN9M5ayFw/o.jpg', 'is_closed': False, 'url': 'https://www.yelp.com/biz/hatsuhana-sushi-restaurant-new-york?adjust_creative=NTOFq0hWesFzHYCprBXMFw&utm_campaign=yelp_api_v3&utm_medium=api_v3_business_search&utm_source=NTOFq0hWesFzHYCprBXMFw', 'review_count': 1318, 'categories': [{'alias': 'japanese', 'title': 'Japanese'}, {'alias': 'sushi', 'title': 'Sushi Bars'}], 'rating': 4.0, 'coordinates': {'latitude': 40.75703, 'longitude': -73.97692}, 'transactions': ['restaurant_reservation', 'pickup', 'delivery'], 'price': '$$$', 'location': {'address1': '17 E 48th St', 'address2': '', 'address3': '', 'city': 'New York', 'zip_code': '10017', 'country': 'US', 'state': 'NY', 'display_address': ['17 E 48th St', 'New York, NY 10017']}, 'phone': '+12123553345', 'display_phone': '(212) 355-3345', 'distance': 5920.049431134322}, {'id': 'cOtB9fWWLrbaBebZDjJquQ', 'alias': 'dunhuang-miss-noodles-brooklyn', 'name': 'DunHuang Miss Noodles', 'image_url': 'https://s3-media1.fl.yelpcdn.com/bphoto/BFtapdezM5wnPJxsQRgN0Q/o.jpg', 'is_closed': False, 'url': 'https://www.yelp.com/biz/dunhuang-miss-noodles-brooklyn?adjust_creative=NTOFq0hWesFzHYCprBXMFw&utm_campaign=yelp_api_v3&utm_medium=api_v3_business_search&utm_source=NTOFq0hWesFzHYCprBXMFw', 'review_count': 7, 'categories': [{'alias': 'chinese', 'title': 'Chinese'}, {'alias': 'desserts', 'title': 'Desserts'}, {'alias': 'bbq', 'title': 'Barbeque'}], 'rating': 5.0, 'coordinates': {'latitude': 40.69393, 'longitude': -73.96347}, 'transactions': [], 'location': {'address1': '531 Myrtle Ave', 'address2': None, 'address3': '', 'city': 'Brooklyn', 'zip_code': '11205', 'country': 'US', 'state': 'NY', 'display_address': ['531 Myrtle Ave', 'Brooklyn, NY 11205']}, 'phone': '', 'display_phone': '', 'distance': 2895.6039350102656}, {'id': 'v0opDMezc6pKgdfR22KUnQ', 'alias': 'da-tang-szechuan-new-york-2', 'name': 'Da Tang Szechuan', 'image_url': 'https://s3-media2.fl.yelpcdn.com/bphoto/ByzWS78I4dlPB3U1HXVLDw/o.jpg', 'is_closed': False, 'url': 'https://www.yelp.com/biz/da-tang-szechuan-new-york-2?adjust_creative=NTOFq0hWesFzHYCprBXMFw&utm_campaign=yelp_api_v3&utm_medium=api_v3_business_search&utm_source=NTOFq0hWesFzHYCprBXMFw', 'review_count': 204, 'categories': [{'alias': 'szechuan', 'title': 'Szechuan'}], 'rating': 4.5, 'coordinates': {'latitude': 40.75128, 'longitude': -73.98376}, 'transactions': ['pickup', 'delivery'], 'price': '$$', 'location': {'address1': '18 W 38th St', 'address2': None, 'address3': '', 'city': 'New York', 'zip_code': '10018', 'country': 'US', 'state': 'NY', 'display_address': ['18 W 38th St', 'New York, NY 10018']}, 'phone': '+16464788345', 'display_phone': '(646) 478-8345', 'distance': 5165.776956800986}, {'id': 'rYw5rQbWRX9buZHZbxqWdA', 'alias': 'congee-village-new-york', 'name': 'Congee Village', 'image_url': 'https://s3-media3.fl.yelpcdn.com/bphoto/Nccuu7yqWhOiEtuqozq9DA/o.jpg', 'is_closed': False, 'url': 'https://www.yelp.com/biz/congee-village-new-york?adjust_creative=NTOFq0hWesFzHYCprBXMFw&utm_campaign=yelp_api_v3&utm_medium=api_v3_business_search&utm_source=NTOFq0hWesFzHYCprBXMFw', 'review_count': 1573, 'categories': [{'alias': 'cantonese', 'title': 'Cantonese'}], 'rating': 3.5, 'coordinates': {'latitude': 40.7187, 'longitude': -73.99031}, 'transactions': ['pickup', 'delivery'], 'price': '$$', 'location': {'address1': '100 Allen St', 'address2': '', 'address3': '', 'city': 'New York', 'zip_code': '10002', 'country': 'US', 'state': 'NY', 'display_address': ['100 Allen St', 'New York, NY 10002']}, 'phone': '+12129411818', 'display_phone': '(212) 941-1818', 'distance': 1506.9093475842137}, {'id': 'olRNNJCJ2TJvPRmjBiOcGA', 'alias': 'silky-kitchen-new-york-3', 'name': 'Silky Kitchen', 'image_url': 'https://s3-media1.fl.yelpcdn.com/bphoto/Pp9_g_8rHI5_0GlVSmVCBQ/o.jpg', 'is_closed': False, 'url': 'https://www.yelp.com/biz/silky-kitchen-new-york-3?adjust_creative=NTOFq0hWesFzHYCprBXMFw&utm_campaign=yelp_api_v3&utm_medium=api_v3_business_search&utm_source=NTOFq0hWesFzHYCprBXMFw', 'review_count': 208, 'categories': [{'alias': 'chinese', 'title': 'Chinese'}, {'alias': 'noodles', 'title': 'Noodles'}], 'rating': 4.5, 'coordinates': {'latitude': 40.73297, 'longitude': -73.98829}, 'transactions': ['pickup', 'delivery'], 'price': '$$', 'location': {'address1': '137 E 13th St', 'address2': '', 'address3': None, 'city': 'New York', 'zip_code': '10003', 'country': 'US', 'state': 'NY', 'display_address': ['137 E 13th St', 'New York, NY 10003']}, 'phone': '+16468500635', 'display_phone': '(646) 850-0635', 'distance': 3099.0828505233635}, {'id': 'LT0yyLNM84EiJj9DL0rfHA', 'alias': 'hui-restaurant-and-bar-new-york', 'name': 'Hui Restaurant & Bar', 'image_url': 'https://s3-media1.fl.yelpcdn.com/bphoto/Z3oGzAxh45VewqWR3D9c1Q/o.jpg', 'is_closed': False, 'url': 'https://www.yelp.com/biz/hui-restaurant-and-bar-new-york?adjust_creative=NTOFq0hWesFzHYCprBXMFw&utm_campaign=yelp_api_v3&utm_medium=api_v3_business_search&utm_source=NTOFq0hWesFzHYCprBXMFw', 'review_count': 137, 'categories': [{'alias': 'bars', 'title': 'Bars'}, {'alias': 'szechuan', 'title': 'Szechuan'}, {'alias': 'dimsum', 'title': 'Dim Sum'}], 'rating': 4.5, 'coordinates': {'latitude': 40.76701, 'longitude': -73.95846}, 'transactions': ['restaurant_reservation', 'pickup', 'delivery'], 'price': '$$', 'location': {'address1': '314 E 70th St', 'address2': '', 'address3': None, 'city': 'New York', 'zip_code': '10021', 'country': 'US', 'state': 'NY', 'display_address': ['314 E 70th St', 'New York, NY 10021']}, 'phone': '+16468690339', 'display_phone': '(646) 869-0339', 'distance': 7471.247192255624}, {'id': 'UnuTjRj-u7Z8StoFKb-r1A', 'alias': 'golden-treasure-seafood-restaurant-flushing', 'name': 'Golden Treasure Seafood Restaurant', 'image_url': 'https://s3-media1.fl.yelpcdn.com/bphoto/8uFZnkLaGUVsYnfpzb1J-Q/o.jpg', 'is_closed': False, 'url': 'https://www.yelp.com/biz/golden-treasure-seafood-restaurant-flushing?adjust_creative=NTOFq0hWesFzHYCprBXMFw&utm_campaign=yelp_api_v3&utm_medium=api_v3_business_search&utm_source=NTOFq0hWesFzHYCprBXMFw', 'review_count': 22, 'categories': [{'alias': 'seafood', 'title': 'Seafood'}, {'alias': 'cantonese', 'title': 'Cantonese'}], 'rating': 4.0, 'coordinates': {'latitude': 40.742959, 'longitude': -73.8257157057524}, 'transactions': ['restaurant_reservation'], 'location': {'address1': '60-06 Main St', 'address2': '', 'address3': None, 'city': 'Flushing', 'zip_code': '11355', 'country': 'US', 'state': 'NY', 'display_address': ['60-06 Main St', 'Flushing, NY 11355']}, 'phone': '+17189611388', 'display_phone': '(718) 961-1388', 'distance': 14805.786367922345}, {'id': 'BKMCAYb9EAivUm3p-vrC9w', 'alias': 'khe-yo-new-york', 'name': 'Khe-Yo', 'image_url': 'https://s3-media2.fl.yelpcdn.com/bphoto/NQwQZphTdlX90FhBijzSew/o.jpg', 'is_closed': False, 'url': 'https://www.yelp.com/biz/khe-yo-new-york?adjust_creative=NTOFq0hWesFzHYCprBXMFw&utm_campaign=yelp_api_v3&utm_medium=api_v3_business_search&utm_source=NTOFq0hWesFzHYCprBXMFw', 'review_count': 722, 'categories': [{'alias': 'laotian', 'title': 'Laotian'}], 'rating': 4.0, 'coordinates': {'latitude': 40.716906, 'longitude': -74.008587}, 'transactions': ['pickup', 'delivery'], 'price': '$$', 'location': {'address1': '157 Duane St', 'address2': '', 'address3': '', 'city': 'New York', 'zip_code': '10013', 'country': 'US', 'state': 'NY', 'display_address': ['157 Duane St', 'New York, NY 10013']}, 'phone': '+12125871089', 'display_phone': '(212) 587-1089', 'distance': 1753.7446005214726}, {'id': 'W5RSIwNKBa7k0jeAs5KDYg', 'alias': 'mei-jin-ramen-new-york', 'name': 'Mei Jin Ramen', 'image_url': 'https://s3-media2.fl.yelpcdn.com/bphoto/OjfhYz-Jq53RcjTzkvU2Qg/o.jpg', 'is_closed': False, 'url': 'https://www.yelp.com/biz/mei-jin-ramen-new-york?adjust_creative=NTOFq0hWesFzHYCprBXMFw&utm_campaign=yelp_api_v3&utm_medium=api_v3_business_search&utm_source=NTOFq0hWesFzHYCprBXMFw', 'review_count': 664, 'categories': [{'alias': 'ramen', 'title': 'Ramen'}, {'alias': 'cocktailbars', 'title': 'Cocktail Bars'}], 'rating': 4.0, 'coordinates': {'latitude': 40.775049, 'longitude': -73.953553}, 'transactions': ['pickup', 'delivery'], 'price': '$$', 'location': {'address1': '1574 2nd Ave', 'address2': '', 'address3': '', 'city': 'New York', 'zip_code': '10028', 'country': 'US', 'state': 'NY', 'display_address': ['1574 2nd Ave', 'New York, NY 10028']}, 'phone': '+12123272800', 'display_phone': '(212) 327-2800', 'distance': 8466.563652243987}, {'id': 'Bb0h5Rs8ugSM2CjulRhfBw', 'alias': 'spicy-moon-new-york', 'name': 'Spicy Moon', 'image_url': 'https://s3-media3.fl.yelpcdn.com/bphoto/5xj4ZyYiECeK7Z3sFmOwCA/o.jpg', 'is_closed': False, 'url': 'https://www.yelp.com/biz/spicy-moon-new-york?adjust_creative=NTOFq0hWesFzHYCprBXMFw&utm_campaign=yelp_api_v3&utm_medium=api_v3_business_search&utm_source=NTOFq0hWesFzHYCprBXMFw', 'review_count': 267, 'categories': [{'alias': 'szechuan', 'title': 'Szechuan'}, {'alias': 'vegan', 'title': 'Vegan'}], 'rating': 4.5, 'coordinates': {'latitude': 40.72674, 'longitude': -73.98722}, 'transactions': ['restaurant_reservation', 'pickup', 'delivery'], 'price': '$$', 'location': {'address1': '328 E 6th St', 'address2': '', 'address3': None, 'city': 'New York', 'zip_code': '10003', 'country': 'US', 'state': 'NY', 'display_address': ['328 E 6th St', 'New York, NY 10003']}, 'phone': '+16464298471', 'display_phone': '(646) 429-8471', 'distance': 2437.632855284239}, {'id': '53lgp8fFEuK3Yo7yeXc89A', 'alias': 'tim-ho-wan-hells-kitchen-new-york-2', 'name': \"Tim Ho Wan - Hell's Kitchen\", 'image_url': 'https://s3-media2.fl.yelpcdn.com/bphoto/guGYxkRQZj8ctJbn3UoYsQ/o.jpg', 'is_closed': False, 'url': 'https://www.yelp.com/biz/tim-ho-wan-hells-kitchen-new-york-2?adjust_creative=NTOFq0hWesFzHYCprBXMFw&utm_campaign=yelp_api_v3&utm_medium=api_v3_business_search&utm_source=NTOFq0hWesFzHYCprBXMFw', 'review_count': 350, 'categories': [{'alias': 'dimsum', 'title': 'Dim Sum'}, {'alias': 'cantonese', 'title': 'Cantonese'}], 'rating': 3.5, 'coordinates': {'latitude': 40.75935, 'longitude': -73.99175}, 'transactions': [], 'price': '$$', 'location': {'address1': '610 9th Ave', 'address2': '', 'address3': None, 'city': 'New York', 'zip_code': '10036', 'country': 'US', 'state': 'NY', 'display_address': ['610 9th Ave', 'New York, NY 10036']}, 'phone': '+12122282802', 'display_phone': '(212) 228-2802', 'distance': 5990.725578704439}, {'id': 'kBZggrnSP1kcUMnsnfkTaQ', 'alias': 'nan-xiang-xiao-long-bao-flushing', 'name': 'Nan Xiang Xiao Long Bao', 'image_url': 'https://s3-media2.fl.yelpcdn.com/bphoto/mdi2CTUT2yI2aMxgtnKsfg/o.jpg', 'is_closed': False, 'url': 'https://www.yelp.com/biz/nan-xiang-xiao-long-bao-flushing?adjust_creative=NTOFq0hWesFzHYCprBXMFw&utm_campaign=yelp_api_v3&utm_medium=api_v3_business_search&utm_source=NTOFq0hWesFzHYCprBXMFw', 'review_count': 3502, 'categories': [{'alias': 'shanghainese', 'title': 'Shanghainese'}, {'alias': 'gourmet', 'title': 'Specialty Food'}, {'alias': 'noodles', 'title': 'Noodles'}], 'rating': 4.0, 'coordinates': {'latitude': 40.7598810063385, 'longitude': -73.8325853625656}, 'transactions': [], 'price': '$', 'location': {'address1': '39-16 Prince St', 'address2': 'Ste 104', 'address3': '', 'city': 'Flushing', 'zip_code': '11354', 'country': 'US', 'state': 'NY', 'display_address': ['39-16 Prince St', 'Ste 104', 'Flushing, NY 11354']}, 'phone': '+17183213838', 'display_phone': '(718) 321-3838', 'distance': 14909.390987249846}, {'id': 'xZ96vaoL-cQjfotmUKtjJQ', 'alias': 'barn-joo-35-new-york', 'name': 'Barn Joo 35', 'image_url': 'https://s3-media1.fl.yelpcdn.com/bphoto/1R5CgYlK5qGUhKZOvZThKw/o.jpg', 'is_closed': False, 'url': 'https://www.yelp.com/biz/barn-joo-35-new-york?adjust_creative=NTOFq0hWesFzHYCprBXMFw&utm_campaign=yelp_api_v3&utm_medium=api_v3_business_search&utm_source=NTOFq0hWesFzHYCprBXMFw', 'review_count': 1941, 'categories': [{'alias': 'korean', 'title': 'Korean'}, {'alias': 'gastropubs', 'title': 'Gastropubs'}, {'alias': 'tapasmallplates', 'title': 'Tapas/Small Plates'}], 'rating': 4.5, 'coordinates': {'latitude': 40.74964, 'longitude': -73.98582}, 'transactions': ['restaurant_reservation', 'pickup', 'delivery'], 'price': '$$', 'location': {'address1': '34 W 35th St', 'address2': '', 'address3': '', 'city': 'New York', 'zip_code': '10001', 'country': 'US', 'state': 'NY', 'display_address': ['34 W 35th St', 'New York, NY 10001']}, 'phone': '+12125644430', 'display_phone': '(212) 564-4430', 'distance': 4968.473297353009}, {'id': 'X4hEgOBOLTYFhlWO-gAFxQ', 'alias': 'tipsy-shanghai-new-york-2', 'name': 'Tipsy Shanghai', 'image_url': 'https://s3-media3.fl.yelpcdn.com/bphoto/Wtoz9LRfV9Q8NjetaE4hwg/o.jpg', 'is_closed': False, 'url': 'https://www.yelp.com/biz/tipsy-shanghai-new-york-2?adjust_creative=NTOFq0hWesFzHYCprBXMFw&utm_campaign=yelp_api_v3&utm_medium=api_v3_business_search&utm_source=NTOFq0hWesFzHYCprBXMFw', 'review_count': 162, 'categories': [{'alias': 'shanghainese', 'title': 'Shanghainese'}], 'rating': 4.0, 'coordinates': {'latitude': 40.72929, 'longitude': -73.99882}, 'transactions': ['pickup', 'delivery'], 'price': '$$', 'location': {'address1': '228 Thompson St', 'address2': None, 'address3': '', 'city': 'New York', 'zip_code': '10012', 'country': 'US', 'state': 'NY', 'display_address': ['228 Thompson St', 'New York, NY 10012']}, 'phone': '+12127630877', 'display_phone': '(212) 763-0877', 'distance': 2673.946404708324}, {'id': 'KSleHGTG1yL1E7OEFFPoNQ', 'alias': 'laoma-spicy-new-york-2', 'name': 'LaoMa Spicy', 'image_url': 'https://s3-media3.fl.yelpcdn.com/bphoto/OyQ08hJ1585APtxfmRMdkg/o.jpg', 'is_closed': False, 'url': 'https://www.yelp.com/biz/laoma-spicy-new-york-2?adjust_creative=NTOFq0hWesFzHYCprBXMFw&utm_campaign=yelp_api_v3&utm_medium=api_v3_business_search&utm_source=NTOFq0hWesFzHYCprBXMFw', 'review_count': 145, 'categories': [{'alias': 'szechuan', 'title': 'Szechuan'}, {'alias': 'noodles', 'title': 'Noodles'}, {'alias': 'soup', 'title': 'Soup'}], 'rating': 4.0, 'coordinates': {'latitude': 40.7308968437954, 'longitude': -73.9934402704239}, 'transactions': [], 'price': '$$', 'location': {'address1': '58 E 8th St', 'address2': '', 'address3': None, 'city': 'New York', 'zip_code': '10003', 'country': 'US', 'state': 'NY', 'display_address': ['58 E 8th St', 'New York, NY 10003']}, 'phone': '+12127771661', 'display_phone': '(212) 777-1661', 'distance': 2831.0406000636312}], 'total': 6700, 'region': {'center': {'longitude': -73.99429321289062, 'latitude': 40.70544486444615}}}\n"
     ]
    }
   ],
   "source": [
    "business_data = call_yelp_data(url,headers, url_params)"
   ]
  },
  {
   "cell_type": "code",
   "execution_count": 29,
   "metadata": {},
   "outputs": [
    {
     "data": {
      "text/plain": [
       "50"
      ]
     },
     "execution_count": 29,
     "metadata": {},
     "output_type": "execute_result"
    }
   ],
   "source": [
    "len(business_data)"
   ]
  },
  {
   "cell_type": "code",
   "execution_count": 30,
   "metadata": {},
   "outputs": [],
   "source": [
    "# write a function to parse the API response \n",
    "# so that you can easily insert the data in to the DB\n",
    "\n",
    "# write a function to parse the API response \n",
    "# so that you can easily insert the data in to the DB\n",
    "\n",
    "def parse_data(business_data):\n",
    "    business_tuple_list = []\n",
    "    for business in business_data:\n",
    "    \n",
    "        business_tuple = (business['name'],\n",
    "                          business['location']['city'],\n",
    "                          business['review_count'],\n",
    "                          business['rating'],\n",
    "                          business['price'],\n",
    "                          business['id'])\n",
    "        business_tuple_list.append(business_tuple)\n",
    "    return business_tuple_list\n",
    "\n",
    "        "
   ]
  },
  {
   "cell_type": "code",
   "execution_count": 31,
   "metadata": {},
   "outputs": [
    {
     "ename": "KeyError",
     "evalue": "'price'",
     "output_type": "error",
     "traceback": [
      "\u001b[0;31m---------------------------------------------------------------------------\u001b[0m",
      "\u001b[0;31mKeyError\u001b[0m                                  Traceback (most recent call last)",
      "\u001b[0;32m<ipython-input-31-2b1fe8884a22>\u001b[0m in \u001b[0;36m<module>\u001b[0;34m\u001b[0m\n\u001b[0;32m----> 1\u001b[0;31m \u001b[0mparse_data\u001b[0m\u001b[0;34m(\u001b[0m\u001b[0mbusiness_data\u001b[0m\u001b[0;34m)\u001b[0m\u001b[0;34m\u001b[0m\u001b[0;34m\u001b[0m\u001b[0m\n\u001b[0m",
      "\u001b[0;32m<ipython-input-30-32658e8498b8>\u001b[0m in \u001b[0;36mparse_data\u001b[0;34m(business_data)\u001b[0m\n\u001b[1;32m     13\u001b[0m                           \u001b[0mbusiness\u001b[0m\u001b[0;34m[\u001b[0m\u001b[0;34m'review_count'\u001b[0m\u001b[0;34m]\u001b[0m\u001b[0;34m,\u001b[0m\u001b[0;34m\u001b[0m\u001b[0;34m\u001b[0m\u001b[0m\n\u001b[1;32m     14\u001b[0m                           \u001b[0mbusiness\u001b[0m\u001b[0;34m[\u001b[0m\u001b[0;34m'rating'\u001b[0m\u001b[0;34m]\u001b[0m\u001b[0;34m,\u001b[0m\u001b[0;34m\u001b[0m\u001b[0;34m\u001b[0m\u001b[0m\n\u001b[0;32m---> 15\u001b[0;31m                           \u001b[0mbusiness\u001b[0m\u001b[0;34m[\u001b[0m\u001b[0;34m'price'\u001b[0m\u001b[0;34m]\u001b[0m\u001b[0;34m,\u001b[0m\u001b[0;34m\u001b[0m\u001b[0;34m\u001b[0m\u001b[0m\n\u001b[0m\u001b[1;32m     16\u001b[0m                           business['id'])\n\u001b[1;32m     17\u001b[0m         \u001b[0mbusiness_tuple_list\u001b[0m\u001b[0;34m.\u001b[0m\u001b[0mappend\u001b[0m\u001b[0;34m(\u001b[0m\u001b[0mbusiness_tuple\u001b[0m\u001b[0;34m)\u001b[0m\u001b[0;34m\u001b[0m\u001b[0;34m\u001b[0m\u001b[0m\n",
      "\u001b[0;31mKeyError\u001b[0m: 'price'"
     ]
    }
   ],
   "source": [
    "parse_data(business_data)"
   ]
  },
  {
   "cell_type": "code",
   "execution_count": 1,
   "metadata": {},
   "outputs": [],
   "source": [
    "# Write a function to take your parsed data and insert it into the DB"
   ]
  },
  {
   "cell_type": "code",
   "execution_count": null,
   "metadata": {},
   "outputs": [],
   "source": [
    "# Write a script that combines the three functions above into a single process."
   ]
  },
  {
   "cell_type": "markdown",
   "metadata": {},
   "source": [
    "## Part 4 -  Create ETL pipeline for the restaurant review data from the API\n",
    "\n",
    "You've done this for the Businesses, now you need to do this for reviews. You will follow the same process, but your functions will be specific to reviews."
   ]
  },
  {
   "cell_type": "code",
   "execution_count": null,
   "metadata": {},
   "outputs": [],
   "source": [
    "# write a SQL query to pull back all of the business ids \n",
    "# you will need these ids to pull back the reviews for each restaurant"
   ]
  },
  {
   "cell_type": "code",
   "execution_count": null,
   "metadata": {},
   "outputs": [],
   "source": [
    "# write a function that takes a business id \n",
    "# and makes a call to the API for reivews\n"
   ]
  },
  {
   "cell_type": "code",
   "execution_count": null,
   "metadata": {},
   "outputs": [],
   "source": [
    "# Write a function to parse out the relevant information from the reviews"
   ]
  },
  {
   "cell_type": "code",
   "execution_count": null,
   "metadata": {},
   "outputs": [],
   "source": [
    "# write a function to insert the parsed data into the reviews table"
   ]
  },
  {
   "cell_type": "code",
   "execution_count": null,
   "metadata": {},
   "outputs": [],
   "source": [
    "# combine the functions above into a single script  "
   ]
  },
  {
   "cell_type": "markdown",
   "metadata": {},
   "source": [
    "## Part 5 -  Write SQL queries that will answer the questions posed. \n",
    "\n",
    "Now that your data is in the DB, you can answer the questions. Write SQL querires that will answer the questions. **Do not use Pandas in this lab**"
   ]
  },
  {
   "cell_type": "code",
   "execution_count": null,
   "metadata": {},
   "outputs": [],
   "source": [
    "# create connection"
   ]
  },
  {
   "cell_type": "code",
   "execution_count": null,
   "metadata": {},
   "outputs": [],
   "source": [
    "# execute SQL queries"
   ]
  },
  {
   "cell_type": "code",
   "execution_count": null,
   "metadata": {},
   "outputs": [],
   "source": []
  },
  {
   "cell_type": "markdown",
   "metadata": {},
   "source": [
    "# Extra Reference help"
   ]
  },
  {
   "cell_type": "markdown",
   "metadata": {},
   "source": [
    "###  Pagination\n",
    "\n",
    "Returning to the Yelp API, the [documentation](https://www.yelp.com/developers/documentation/v3/business_search) also provides us details regarding the API limits. These often include details about the number of requests a user is allowed to make within a specified time limit and the maximum number of results to be returned. In this case, we are told that any request has a maximum of 50 results per request and defaults to 20. Furthermore, any search will be limited to a total of 1000 results. To retrieve all 1000 of these results, we would have to page through the results piece by piece, retriving 50 at a time. Processes such as these are often refered to as pagination.\n",
    "\n",
    "Now that you have an initial response, you can examine the contents of the json container. For example, you might start with ```response.json().keys()```. Here, you'll see a key for `'total'`, which tells you the full number of matching results given your query parameters. Write a loop (or ideally a function) which then makes successive API calls using the offset parameter to retrieve all of the results (or 5000 for a particularly large result set) for the original query. As you do this, be mindful of how you store the data. \n",
    "\n",
    "**Note: be mindful of the API rate limits. You can only make 5000 requests per day, and APIs can make requests too fast. Start prototyping small before running a loop that could be faulty. You can also use time.sleep(n) to add delays. For more details see https://www.yelp.com/developers/documentation/v3/rate_limiting.**"
   ]
  },
  {
   "cell_type": "markdown",
   "metadata": {},
   "source": [
    "***Below is sample code that you can use to help you deal with the pagination parameter and bring all of the functions together.***\n",
    "\n",
    "\n",
    "***Also, something might cause your code to break while it is running. You don't want to constantly repull the same data when this happens, so you should insert the data into the database as you call and parse it, not after you have all of the data***\n"
   ]
  },
  {
   "cell_type": "code",
   "execution_count": null,
   "metadata": {},
   "outputs": [],
   "source": [
    "def yelp_call(url_params, api_key):\n",
    "    # your code to make the yelp call\n",
    "    return data"
   ]
  },
  {
   "cell_type": "code",
   "execution_count": null,
   "metadata": {},
   "outputs": [],
   "source": [
    "def parse_results(results):\n",
    "    # your code to parse the result to make them easier to insert into the DB\n",
    "    return parsed_results"
   ]
  },
  {
   "cell_type": "code",
   "execution_count": null,
   "metadata": {},
   "outputs": [],
   "source": [
    "def db_insert(cnx, cursor, parsed results):\n",
    "    # your code to insert and commit the results\n",
    "    # I would create the connection and cursor outside of this function and then pass it through"
   ]
  },
  {
   "cell_type": "code",
   "execution_count": null,
   "metadata": {},
   "outputs": [],
   "source": [
    "# create a variable  to keep track of which result you are in. \n",
    "cur = 0\n",
    "\n",
    "#set up a while loop to go through and grab the result \n",
    "while cur < num and cur < 1000:\n",
    "    #set the offset parameter to be where you currently are in the results \n",
    "    url_params['offset'] = cur\n",
    "    #make your API call with the new offset number\n",
    "    results = yelp_call(url_params, api_key)\n",
    "    \n",
    "    #after you get your results you can now use your function to parse those results\n",
    "    parsed_results = parse_results(results)\n",
    "    \n",
    "    # use your function to insert your parsed results into the db\n",
    "    db_insert(parsed_results)\n",
    "    #increment the counter by 50 to move on to the next results\n",
    "    cur += 50"
   ]
  },
  {
   "cell_type": "code",
   "execution_count": null,
   "metadata": {},
   "outputs": [],
   "source": []
  }
 ],
 "metadata": {
  "kernelspec": {
   "display_name": "Python 3",
   "language": "python",
   "name": "python3"
  },
  "language_info": {
   "codemirror_mode": {
    "name": "ipython",
    "version": 3
   },
   "file_extension": ".py",
   "mimetype": "text/x-python",
   "name": "python",
   "nbconvert_exporter": "python",
   "pygments_lexer": "ipython3",
   "version": "3.6.9"
  },
  "toc": {
   "base_numbering": 1,
   "nav_menu": {},
   "number_sections": false,
   "sideBar": true,
   "skip_h1_title": false,
   "title_cell": "Table of Contents",
   "title_sidebar": "Contents",
   "toc_cell": false,
   "toc_position": {},
   "toc_section_display": true,
   "toc_window_display": false
  }
 },
 "nbformat": 4,
 "nbformat_minor": 2
}
